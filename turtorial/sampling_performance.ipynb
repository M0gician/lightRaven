{
 "cells": [
  {
   "cell_type": "code",
   "execution_count": 1,
   "metadata": {
    "collapsed": true
   },
   "outputs": [],
   "source": [
    "import numpy as np\n",
    "import gym\n",
    "from timeit import time\n",
    "from lightRaven.utils import generate_dataset, get_policy_perf\n",
    "from lightRaven.sampling import IS, PDIS, WIS, CWPDIS\n",
    "from lightRaven.policy import FAPolicy"
   ]
  },
  {
   "cell_type": "code",
   "execution_count": 2,
   "metadata": {
    "collapsed": false,
    "pycharm": {
     "name": "#%%\n"
    }
   },
   "outputs": [],
   "source": [
    "env_id = 'CartPole-v0'\r\n",
    "n_proc = 8\r\n",
    "test_size = 100000\r\n",
    "gamma = 1.0"
   ]
  },
  {
   "cell_type": "code",
   "execution_count": 3,
   "metadata": {
    "collapsed": false,
    "pycharm": {
     "name": "#%%\n"
    }
   },
   "outputs": [],
   "source": [
    "env = gym.make(env_id)\n",
    "dataset_test = generate_dataset(env_id, test_size, gamma=1.0, n_proc=n_proc)"
   ]
  },
  {
   "cell_type": "code",
   "execution_count": 4,
   "metadata": {
    "collapsed": false,
    "pycharm": {
     "name": "#%%\n"
    }
   },
   "outputs": [],
   "source": [
    "obs_shape = env.observation_space.shape[0]\n",
    "act_shape = env.action_space.n"
   ]
  },
  {
   "cell_type": "code",
   "execution_count": 5,
   "metadata": {
    "collapsed": false,
    "pycharm": {
     "name": "#%%\n"
    }
   },
   "outputs": [],
   "source": [
    "sampler_test_IS = IS(dataset_test, gamma=1)\n",
    "sampler_test_PDIS = PDIS(dataset_test, gamma=1)\n",
    "sampler_test_WIS = WIS(dataset_test, gamma=1)\n",
    "sampler_test_CWPDIS = CWPDIS(dataset_test, gamma=1)"
   ]
  },
  {
   "cell_type": "code",
   "execution_count": 6,
   "metadata": {
    "collapsed": false,
    "pycharm": {
     "name": "#%%\n"
    }
   },
   "outputs": [],
   "source": [
    "# theta = np.array([-0.5645018, 1.67835788, -0.93696305, 5.42564286, 3.12075849,\n",
    "#                   5.70131919, -0.60436665, 6.87296208])\n",
    "theta = np.random.normal(0, 1, obs_shape * act_shape)\n",
    "policy = FAPolicy(obs_shape, act_shape, theta)"
   ]
  },
  {
   "cell_type": "code",
   "execution_count": 7,
   "metadata": {
    "collapsed": false,
    "pycharm": {
     "name": "#%%\n"
    }
   },
   "outputs": [
    {
     "name": "stdout",
     "output_type": "stream",
     "text": [
      "The real policy performance over 500 trials is 30.832.\n"
     ]
    }
   ],
   "source": [
    "sample_size = 500\n",
    "perf = get_policy_perf(env_id, sample_size, policy, gamma, n_proc)\n",
    "print(f\"The real policy performance over {sample_size} trials is {perf.mean()}.\")"
   ]
  },
  {
   "cell_type": "code",
   "execution_count": 8,
   "metadata": {
    "collapsed": false,
    "pycharm": {
     "name": "#%%\n"
    }
   },
   "outputs": [],
   "source": [
    "sampler_test_IS.load_eval_policy(policy)\n",
    "sampler_test_PDIS.load_eval_policy(policy)\n",
    "sampler_test_WIS.load_eval_policy(policy)\n",
    "sampler_test_CWPDIS.load_eval_policy(policy)"
   ]
  },
  {
   "cell_type": "code",
   "execution_count": 9,
   "metadata": {
    "collapsed": false,
    "pycharm": {
     "name": "#%%\n"
    }
   },
   "outputs": [
    {
     "name": "stderr",
     "output_type": "stream",
     "text": [
      "C:\\git\\lightRaven\\lightRaven\\sampling\\imptsamp.py:58: NumbaTypeSafetyWarning: \u001b[1m\u001b[1m\u001b[1munsafe cast from uint64 to int64. Precision may be lost.\u001b[0m\u001b[0m\u001b[0m\n",
      "  traj_size = dataset_s[i].shape[0]\n"
     ]
    },
    {
     "name": "stdout",
     "output_type": "stream",
     "text": [
      "IS performance estimation: 25.736615883076045\n",
      "1000000 trajectories are done in 2.26 seconds!\n"
     ]
    }
   ],
   "source": [
    "start = time.time()\n",
    "print(f\"IS performance estimation: {sampler_test_IS.get_est().mean()}\")\n",
    "end = time.time()\n",
    "print(f\"{test_size} trajectories are done in {end-start:.2f} seconds!\")"
   ]
  },
  {
   "cell_type": "code",
   "execution_count": 10,
   "metadata": {
    "collapsed": false,
    "pycharm": {
     "name": "#%%\n"
    }
   },
   "outputs": [
    {
     "name": "stdout",
     "output_type": "stream",
     "text": [
      "PDIS performance estimation: 25.692445685554894\n",
      "1000000 trajectories are done in 2.12 seconds!\n"
     ]
    }
   ],
   "source": [
    "start = time.time()\n",
    "print(f\"PDIS performance estimation: {sampler_test_PDIS.get_est().mean()}\")\n",
    "end = time.time()\n",
    "print(f\"{test_size} trajectories are done in {end-start:.2f} seconds!\")"
   ]
  },
  {
   "cell_type": "code",
   "execution_count": 11,
   "metadata": {
    "collapsed": false,
    "pycharm": {
     "name": "#%%\n"
    }
   },
   "outputs": [
    {
     "name": "stdout",
     "output_type": "stream",
     "text": [
      "WIS performance estimation: 25.743667185319403\n",
      "1000000 trajectories are done in 3.62 seconds!\n"
     ]
    }
   ],
   "source": [
    "start = time.time()\n",
    "print(f\"WIS performance estimation: {sampler_test_WIS.get_est(n_batch=1).mean()}\")\n",
    "end = time.time()\n",
    "print(f\"{test_size} trajectories are done in {end-start:.2f} seconds!\")"
   ]
  },
  {
   "cell_type": "code",
   "execution_count": 12,
   "metadata": {
    "collapsed": false,
    "pycharm": {
     "name": "#%%\n"
    }
   },
   "outputs": [
    {
     "name": "stdout",
     "output_type": "stream",
     "text": [
      "CWPDIS performance estimation: 24.2468449290958\n",
      "1000000 trajectories are done in 52.89 seconds!\n"
     ]
    }
   ],
   "source": [
    "start = time.time()\n",
    "print(f\"CWPDIS performance estimation: {sampler_test_CWPDIS.get_est(n_batch=1).mean()}\")\n",
    "end = time.time()\n",
    "print(f\"{test_size} trajectories are done in {end-start:.2f} seconds!\")"
   ]
  },
  {
   "cell_type": "code",
   "execution_count": 13,
   "metadata": {
    "collapsed": false,
    "pycharm": {
     "name": "#%%\n"
    }
   },
   "outputs": [
    {
     "name": "stdout",
     "output_type": "stream",
     "text": [
      "1.34 s ± 18 ms per loop (mean ± std. dev. of 7 runs, 1 loop each)\n"
     ]
    }
   ],
   "source": [
    "%timeit sampler_test_IS.get_est()"
   ]
  },
  {
   "cell_type": "code",
   "execution_count": 14,
   "metadata": {
    "collapsed": false,
    "pycharm": {
     "name": "#%%\n"
    }
   },
   "outputs": [
    {
     "name": "stdout",
     "output_type": "stream",
     "text": [
      "1.63 s ± 34.7 ms per loop (mean ± std. dev. of 7 runs, 1 loop each)\n"
     ]
    }
   ],
   "source": [
    "%timeit sampler_test_PDIS.get_est()"
   ]
  },
  {
   "cell_type": "code",
   "execution_count": 15,
   "metadata": {
    "collapsed": false,
    "pycharm": {
     "name": "#%%\n"
    }
   },
   "outputs": [
    {
     "name": "stdout",
     "output_type": "stream",
     "text": [
      "2.21 s ± 9.09 ms per loop (mean ± std. dev. of 7 runs, 1 loop each)\n"
     ]
    }
   ],
   "source": [
    "%timeit sampler_test_WIS.get_est(n_batch=30)"
   ]
  },
  {
   "cell_type": "code",
   "execution_count": 16,
   "metadata": {
    "collapsed": false,
    "pycharm": {
     "name": "#%%\n"
    }
   },
   "outputs": [
    {
     "name": "stdout",
     "output_type": "stream",
     "text": [
      "41.2 s ± 312 ms per loop (mean ± std. dev. of 7 runs, 1 loop each)\n"
     ]
    }
   ],
   "source": [
    "%timeit sampler_test_CWPDIS.get_est(n_batch=30)"
   ]
  },
  {
   "cell_type": "code",
   "execution_count": 17,
   "metadata": {
    "collapsed": false,
    "pycharm": {
     "name": "#%%\n"
    }
   },
   "outputs": [],
   "source": [
    "from lightRaven.func import mcma_lb, mpeb_lb, t_lb"
   ]
  },
  {
   "cell_type": "code",
   "execution_count": 23,
   "metadata": {
    "collapsed": false,
    "pycharm": {
     "name": "#%%\n"
    }
   },
   "outputs": [
    {
     "name": "stdout",
     "output_type": "stream",
     "text": [
      "Min: 16.0, Mean: 30.832, Max: 79.0\n",
      "Q1: 23.0, Medium: 28.0, Q3: 35.0\n",
      "The least 5% of the real performance: [16. 17. 18. 18. 18. 19. 19. 19. 19. 19. 19. 19. 19. 19. 19. 20. 20. 20.\n",
      " 20. 20. 20. 20. 20. 20. 20.]\n"
     ]
    }
   ],
   "source": [
    "perf = np.sort(perf)\n",
    "print(f\"Min: {perf.min()}, Mean: {perf.mean()}, Max: {perf.max()}\")\n",
    "print(f\"Q1: {perf[int(sample_size*0.25)]}, Medium: {perf[int(sample_size*0.5)]}, Q3: {perf[int(sample_size*0.75)]}\")\n",
    "print(f\"The least 5% of the real performance: {perf[:int(sample_size*0.05)]}\")"
   ]
  },
  {
   "cell_type": "code",
   "execution_count": 19,
   "metadata": {
    "collapsed": false,
    "pycharm": {
     "name": "#%%\n"
    }
   },
   "outputs": [
    {
     "name": "stdout",
     "output_type": "stream",
     "text": [
      "IS Performance low bound: 25.64972486394926\n",
      "35.5 s ± 1.08 s per loop (mean ± std. dev. of 7 runs, 1 loop each)\n"
     ]
    }
   ],
   "source": [
    "print(f\"IS Performance low bound: {t_lb(sampler_test_IS.get_est())}\")\n",
    "%timeit mpeb_lb(sampler_test_IS.get_est())"
   ]
  },
  {
   "cell_type": "code",
   "execution_count": 20,
   "metadata": {
    "collapsed": false,
    "pycharm": {
     "name": "#%%\n"
    }
   },
   "outputs": [
    {
     "name": "stdout",
     "output_type": "stream",
     "text": [
      "PDIS Performance low bound: 25.653616626384345\n",
      "1.64 s ± 22.3 ms per loop (mean ± std. dev. of 7 runs, 1 loop each)\n"
     ]
    }
   ],
   "source": [
    "print(f\"PDIS Performance low bound: {t_lb(sampler_test_PDIS.get_est())}\")\n",
    "%timeit t_lb(sampler_test_PDIS.get_est())"
   ]
  },
  {
   "cell_type": "code",
   "execution_count": 21,
   "metadata": {
    "collapsed": false,
    "pycharm": {
     "name": "#%%\n"
    }
   },
   "outputs": [
    {
     "name": "stdout",
     "output_type": "stream",
     "text": [
      "WIS Performance low bound: 25.690460419529085\n",
      "2.18 s ± 14.2 ms per loop (mean ± std. dev. of 7 runs, 1 loop each)\n"
     ]
    }
   ],
   "source": [
    "print(f\"WIS Performance low bound: {t_lb(sampler_test_WIS.get_est(n_batch=30))}\")\n",
    "%timeit t_lb(sampler_test_WIS.get_est(n_batch=30))"
   ]
  },
  {
   "cell_type": "code",
   "execution_count": 22,
   "metadata": {
    "collapsed": false,
    "pycharm": {
     "name": "#%%\n"
    }
   },
   "outputs": [
    {
     "name": "stdout",
     "output_type": "stream",
     "text": [
      "CWPDIS Performance low bound: 24.21615810976308\n",
      "41 s ± 372 ms per loop (mean ± std. dev. of 7 runs, 1 loop each)\n"
     ]
    }
   ],
   "source": [
    "print(f\"CWPDIS Performance low bound: {t_lb(sampler_test_CWPDIS.get_est(n_batch=30))}\")\n",
    "%timeit t_lb(sampler_test_CWPDIS.get_est(n_batch=30))"
   ]
  }
 ],
 "metadata": {
  "kernelspec": {
   "display_name": "PyCharm (python-rllib)",
   "language": "python",
   "name": "pycharm-ea1fb1a2"
  },
  "language_info": {
   "codemirror_mode": {
    "name": "ipython",
    "version": 2
   },
   "file_extension": ".py",
   "mimetype": "text/x-python",
   "name": "python",
   "nbconvert_exporter": "python",
   "pygments_lexer": "ipython2",
   "version": "2.7.6"
  }
 },
 "nbformat": 4,
 "nbformat_minor": 0
}