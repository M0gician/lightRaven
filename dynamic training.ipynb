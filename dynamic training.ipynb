{
 "cells": [
  {
   "cell_type": "code",
   "execution_count": null,
   "metadata": {
    "collapsed": true
   },
   "outputs": [],
   "source": [
    "import gym\n",
    "import pickle\n",
    "import numpy as np\n",
    "\n",
    "from lightRaven.utils import generate_dataset, safety_test\n",
    "from lightRaven.policy import FixedPolicy, FAPolicy\n",
    "from lightRaven.agent import CEMSeldonian\n",
    "from lightRaven.sampling import PDIS, IS\n",
    "from lightRaven.func import t_ub, hoeffding_ub, mpeb_ub, mcma_ub\n",
    "\n",
    "from constraints import g0, g1, g2\n",
    "from timeit import time"
   ]
  },
  {
   "cell_type": "code",
   "execution_count": null,
   "metadata": {
    "collapsed": false,
    "pycharm": {
     "name": "#%%\n"
    }
   },
   "outputs": [],
   "source": [
    "env_id = 'CartPole-v0'\n",
    "n_proc = 8\n",
    "train_size = 10000\n",
    "test_size = 1000"
   ]
  },
  {
   "cell_type": "code",
   "execution_count": null,
   "metadata": {
    "collapsed": false,
    "pycharm": {
     "name": "#%%\n"
    }
   },
   "outputs": [],
   "source": [
    "env = gym.make(env_id)\n",
    "dataset_train = generate_dataset(env_id, train_size, n_proc=n_proc)\n",
    "dataset_test = generate_dataset(env_id, test_size, n_proc=n_proc)"
   ]
  },
  {
   "cell_type": "code",
   "execution_count": null,
   "metadata": {
    "collapsed": false,
    "pycharm": {
     "name": "#%%\n"
    }
   },
   "outputs": [],
   "source": [
    "obs_shape = env.observation_space.shape[0]\n",
    "act_shape = env.action_space.n"
   ]
  },
  {
   "cell_type": "code",
   "execution_count": null,
   "metadata": {
    "collapsed": false,
    "pycharm": {
     "name": "#%%\n"
    }
   },
   "outputs": [],
   "source": [
    "sampler_train = PDIS(dataset_train, gamma=1, n_proc=n_proc)\n",
    "sampler_test = PDIS(dataset_test, gamma=1, n_proc=n_proc)\n",
    "ci = mcma_ub\n"
   ]
  },
  {
   "cell_type": "code",
   "execution_count": null,
   "metadata": {
    "collapsed": false,
    "pycharm": {
     "name": "#%%\n"
    }
   },
   "outputs": [],
   "source": [
    "g_funcs = [g0]\n",
    "extra_std = 2.0\n",
    "agent = CEMSeldonian(\n",
    "    epochs=10, pop_size=30, elite_ratio=0.17,\n",
    "    ci_ub=ci, ref_size=test_size, g_funcs=g_funcs, c=1,\n",
    "    gamma=1, extra_std=2.0, extra_decay_time=10, n_proc=n_proc\n",
    ")\n",
    "agent.load_setup(obs_shape, act_shape, p_type='fa')\n",
    "agent.load_sampler(sampler_train)\n",
    "solution = None\n",
    "\n",
    "for i in range(3):\n",
    "    if i == 0:\n",
    "        g_funcs = [g0]\n",
    "        extra_std = 2.0\n",
    "    if i == 1:\n",
    "        g_funcs = [g1]\n",
    "        extra_std = 0.5\n",
    "    elif i == 2:\n",
    "        g_funcs = [g2]\n",
    "        extra_std = 0.1\n",
    "    agent.g_funcs = g_funcs\n",
    "    agent.extra_std = extra_std\n",
    "    agent.init_params(theta = solution)\n",
    "\n",
    "    start = time.time()\n",
    "    agent.train()\n",
    "    end = time.time()\n",
    "    print(f\"Finished training in {end-start:.2f} seconds.\")\n",
    "\n",
    "    thetas = agent.get_best_candidates()\n",
    "\n",
    "    if len(thetas.shape) == 1:\n",
    "        thetas = thetas.reshape(1,-1)\n",
    "\n",
    "    solutions = []\n",
    "    for theta in thetas:\n",
    "        sol = safety_test(\n",
    "            obs_shape=obs_shape, act_shape=act_shape, p_type='fa', theta=theta, sampler=sampler_test, ref_size=test_size,\n",
    "            ci_ub=ci, g_funcs=g_funcs, delta=0.1\n",
    "        )\n",
    "        solutions.append(sol)\n",
    "\n",
    "    solutions = sorted(solutions, key=lambda solution: solution[0], reverse=True)\n",
    "    solution = solutions[0][1]\n",
    "    print(solutions)"
   ]
  },
  {
   "cell_type": "code",
   "execution_count": null,
   "metadata": {
    "collapsed": false,
    "pycharm": {
     "name": "#%%\n"
    }
   },
   "outputs": [],
   "source": [
    "elites = []\n",
    "for sol in solutions:\n",
    "    if not isinstance(sol[1], str):\n",
    "        elites.append(sol[1])\n",
    "yield_ratio = len(elites) / len(solutions)\n",
    "print(f\"yield ratio: {yield_ratio}\")\n"
   ]
  },
  {
   "cell_type": "code",
   "execution_count": null,
   "metadata": {
    "collapsed": false,
    "pycharm": {
     "name": "#%%\n"
    }
   },
   "outputs": [],
   "source": [
    "n_trials = 20\n",
    "rewards = []\n",
    "for theta in elites:\n",
    "    theta_r = []\n",
    "    for _ in range(n_trials):\n",
    "        policy = FAPolicy(obs_shape, act_shape, theta)\n",
    "        R = 0\n",
    "        done = False\n",
    "        s = env.reset()\n",
    "        while not done:\n",
    "            a = policy.act(s)\n",
    "            s_prime, r, done, _ = env.step(a)\n",
    "            R += r\n",
    "            s = s_prime\n",
    "        theta_r.append(R)\n",
    "    theta_r = np.array(theta_r)\n",
    "    rewards.append(theta_r)\n",
    "rewards = np.array(rewards).ravel()\n",
    "print(f\"rewards: {rewards}\")"
   ]
  },
  {
   "cell_type": "code",
   "execution_count": null,
   "metadata": {
    "collapsed": false,
    "pycharm": {
     "name": "#%%\n"
    }
   },
   "outputs": [],
   "source": [
    "perf_lb = 50\n",
    "violations = rewards[rewards<perf_lb]\n",
    "violation_prob = 0\n",
    "if violations.size != 0:\n",
    "    violation_prob = violations.size / rewards.size\n",
    "if len(rewards) > 0:\n",
    "    print(f\"max: {rewards.max()}\")\n",
    "    print(f\"min: {rewards.min()}\")\n",
    "    print(f\"avg: {np.average(rewards)}\")\n",
    "    print(f\"violation prob: {violation_prob}\")"
   ]
  },
  {
   "cell_type": "code",
   "execution_count": null,
   "metadata": {
    "collapsed": false,
    "pycharm": {
     "name": "#%%\n"
    }
   },
   "outputs": [],
   "source": [
    "with open(f'dynamic', 'wb') as f:\n",
    "    obj = [yield_ratio, rewards, violation_prob]\n",
    "    pickle.dump(obj, f)"
   ]
  }
 ],
 "metadata": {
  "kernelspec": {
   "display_name": "PyCharm (python-rllib)",
   "language": "python",
   "name": "pycharm-ea1fb1a2"
  },
  "language_info": {
   "codemirror_mode": {
    "name": "ipython",
    "version": 2
   },
   "file_extension": ".py",
   "mimetype": "text/x-python",
   "name": "python",
   "nbconvert_exporter": "python",
   "pygments_lexer": "ipython2",
   "version": "2.7.6"
  }
 },
 "nbformat": 4,
 "nbformat_minor": 0
}